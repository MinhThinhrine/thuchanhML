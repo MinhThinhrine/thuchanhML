{
  "nbformat": 4,
  "nbformat_minor": 0,
  "metadata": {
    "colab": {
      "provenance": [],
      "authorship_tag": "ABX9TyNfGWDdIU2XtilLKhQCfTTI",
      "include_colab_link": true
    },
    "kernelspec": {
      "name": "python3",
      "display_name": "Python 3"
    },
    "language_info": {
      "name": "python"
    }
  },
  "cells": [
    {
      "cell_type": "markdown",
      "metadata": {
        "id": "view-in-github",
        "colab_type": "text"
      },
      "source": [
        "<a href=\"https://colab.research.google.com/github/MinhThinhrine/thuchanhML/blob/main/Lab1_21130549_Vo_Minh_Thinh.ipynb\" target=\"_parent\"><img src=\"https://colab.research.google.com/assets/colab-badge.svg\" alt=\"Open In Colab\"/></a>"
      ]
    },
    {
      "cell_type": "code",
      "source": [
        "def task1():\n",
        "  n= int (input(\"inter n: \"))\n",
        "  L =[]\n",
        "  for i in range(n):\n",
        "    L.append(int(input(\"n:\")))\n",
        "  print(L)\n",
        "  print (\"min: \", min(L))\n",
        "  print (\"max: \",max(L))\n",
        "  print(\"sum: \",sum(L))\n",
        "  L.sort()\n",
        "  print(L)\n",
        "\n",
        "  positive =0\n",
        "  negative =0\n",
        "  for i in L:\n",
        "    if i%2:\n",
        "      positive = positive +1\n",
        "    else :\n",
        "      negative = negative + 1\n",
        "  print(\"positive: \", positive)\n",
        "  print(\"negative: \", negative)\n",
        "\n",
        "def S(n):\n",
        "  if n == 0:\n",
        "    return 1\n",
        "  else:\n",
        "    return n*S(n-1)\n",
        "\n",
        "task1()\n",
        "s= int (input(\"inter num s: \"))\n",
        "print(\"compute S: S= \",S(s))"
      ],
      "metadata": {
        "colab": {
          "base_uri": "https://localhost:8080/"
        },
        "id": "4g4qd-FCvUHu",
        "outputId": "cc0e4f16-49e5-4a35-c752-47d4c94cf719"
      },
      "execution_count": null,
      "outputs": [
        {
          "output_type": "stream",
          "name": "stdout",
          "text": [
            "inter n: 2\n",
            "n:1\n",
            "n:2\n",
            "min:  1\n",
            "max:  2\n",
            "sum:  3\n",
            "positive:  1\n",
            "negative:  1\n"
          ]
        },
        {
          "output_type": "execute_result",
          "data": {
            "text/plain": [
              "6"
            ]
          },
          "metadata": {},
          "execution_count": 39
        }
      ]
    },
    {
      "cell_type": "code",
      "source": [
        "class Account:\n",
        "  def __init__(self, name, email, country, friends, posts):\n",
        "    self.__name = name\n",
        "    self.__email = email\n",
        "    self.__country = country\n",
        "    self.__friends = friends\n",
        "    self.__posts = posts\n",
        "\n",
        "  def addPost(self, post):\n",
        "    self.__posts.append(post)\n",
        "  def getName(self):\n",
        "        return self.__name\n",
        "  def getCountry(self):\n",
        "        return self.__country\n",
        "  def getPosts(self):\n",
        "        return self.__posts\n",
        "  def __str__(self):\n",
        "        return f\"Account: {self.__name}, Email: {self.__email}, Country: {self.__country}\"\n",
        "\n",
        "  def getMaxLikePostByFriend(self):\n",
        "    maxLike =0\n",
        "    maxPost = None\n",
        "    for friend in self.__friends:\n",
        "      for post in friend.getPost():\n",
        "        if post.getLikes() >maxLike:\n",
        "          maxLike = post.getLikes()\n",
        "          maxPost = post\n",
        "\n",
        "class Post:\n",
        "  def __init__(self, content, subject, likes):\n",
        "    self.__content = content\n",
        "    self.__subject = subject\n",
        "    self.__likes = likes\n",
        "\n",
        "class AccountManager:\n",
        "  def __init__(self, account):\n",
        "    self.__account = account\n",
        "  def groupAccountsByPostLike(self):\n",
        "    result = {}\n",
        "    for account in self.__account:\n",
        "      if len(account.getPosts()) < 10:\n",
        "        result[account] = False\n",
        "      else:\n",
        "        result[account] = True\n",
        "\n",
        "    return result\n",
        "\n",
        "  def filterAccounts(self, country):\n",
        "    filtered_accounts = [account for account in self.__account if account.getCountry() == country]\n",
        "    sorted_accounts = sorted(filtered_accounts, key=lambda account: (-len(account.getPosts()), account.getName()))\n",
        "    return sorted_accounts\n",
        "\n",
        "account1 = Account(\"John\", \"john@example.com\", \"USA\", [], [])\n",
        "account2 = Account(\"Alice\", \"alice@example.com\", \"UK\", [], [])\n",
        "\n",
        "post1 = Post(\"Hello world!\", \"Introduction\", 10)\n",
        "post2 = Post(\"I love coding!\", \"Programming\", 15)\n",
        "\n",
        "account1.addPost(post1)\n",
        "account2.addPost(post2)\n",
        "\n",
        "account_manager = AccountManager([account1, account2])\n",
        "\n",
        "grouped_accounts = account_manager.groupAccountsByPostLike()\n",
        "print(\"Grouped Accounts:\")\n",
        "for account, has_many_posts in grouped_accounts.items():\n",
        "    print(f\"Account: {account}, Has Many Posts: {has_many_posts}\")\n",
        "\n",
        "filtered_accounts = account_manager.filterAccounts(\"USA\")\n",
        "print(\"\\nFiltered Accounts:\")\n",
        "for account in filtered_accounts:\n",
        "    print(account)"
      ],
      "metadata": {
        "colab": {
          "base_uri": "https://localhost:8080/"
        },
        "id": "8dF0hDyL5lsj",
        "outputId": "6c041b9b-aabb-46b2-c7d9-76ad884de0b2"
      },
      "execution_count": null,
      "outputs": [
        {
          "output_type": "stream",
          "name": "stdout",
          "text": [
            "Grouped Accounts:\n",
            "Account: Account: John, Email: john@example.com, Country: USA, Has Many Posts: False\n",
            "Account: Account: Alice, Email: alice@example.com, Country: UK, Has Many Posts: False\n",
            "\n",
            "Filtered Accounts:\n",
            "Account: John, Email: john@example.com, Country: USA\n"
          ]
        }
      ]
    },
    {
      "cell_type": "code",
      "source": [
        "import numpy as np\n",
        "def numPy():\n",
        "  arr = np.arange(10, 26)\n",
        "  print(\"Original array:\", arr)\n",
        "  reversed_arr = np.flip(arr)\n",
        "  print(\"Reversed array:\", reversed_arr)\n",
        "\n",
        "def repeat():\n",
        "  L =[1, 2, 3, 4]\n",
        "  print(\"Original array: \", L)\n",
        "\n",
        "  r = L.copy()\n",
        "  for i in L:\n",
        "        r.append(i)\n",
        "  print(\"Repeating 2 times: \", r)\n",
        "  copy = r.copy()\n",
        "  for i in L:\n",
        "    copy.append(i)\n",
        "  print(\"Repeating 3 times: \", copy)\n",
        "def replace():\n",
        "  arr = np.array([[0.42, 0.48, 0.32],\n",
        "        [ 0.74, 0.58, 0.38],\n",
        "        [ 0.51, 0.34, 0.15]])\n",
        "  arr[arr > 0.5] = 0.5\n",
        "  print(arr)\n",
        "\n",
        "numPy()\n",
        "repeat()\n",
        "replace()"
      ],
      "metadata": {
        "colab": {
          "base_uri": "https://localhost:8080/"
        },
        "id": "voLfCr-B_QcH",
        "outputId": "63e99cdf-ad78-4e87-fc56-c4e082c38590"
      },
      "execution_count": null,
      "outputs": [
        {
          "output_type": "stream",
          "name": "stdout",
          "text": [
            "Original array: [10 11 12 13 14 15 16 17 18 19 20 21 22 23 24 25]\n",
            "Reversed array: [25 24 23 22 21 20 19 18 17 16 15 14 13 12 11 10]\n",
            "Original array:  [1, 2, 3, 4]\n",
            "Repeating 2 times:  [1, 2, 3, 4, 1, 2, 3, 4]\n",
            "Repeating 3 times:  [1, 2, 3, 4, 1, 2, 3, 4, 1, 2, 3, 4]\n",
            "[[0.42 0.48 0.32]\n",
            " [0.5  0.5  0.38]\n",
            " [0.5  0.34 0.15]]\n"
          ]
        }
      ]
    }
  ]
}